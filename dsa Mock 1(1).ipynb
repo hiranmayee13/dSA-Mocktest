{
 "cells": [
  {
   "cell_type": "code",
   "execution_count": null,
   "id": "768bcaa8-632b-4ccb-aa7d-6fecca6f9f9b",
   "metadata": {},
   "outputs": [],
   "source": [
    "\"\"\"Given an integer array nums, move all 0's to the end of it while maintaining the relative order of the\n",
    "non-zero elements.\"\"\""
   ]
  },
  {
   "cell_type": "code",
   "execution_count": 3,
   "id": "523f4c6e-ffcb-4085-be41-8f26ae070e83",
   "metadata": {},
   "outputs": [
    {
     "name": "stdin",
     "output_type": "stream",
     "text": [
      "enter the no of values 4\n",
      "enter the value 1\n",
      "enter the value 0\n",
      "enter the value 0\n",
      "enter the value 2\n"
     ]
    },
    {
     "name": "stdout",
     "output_type": "stream",
     "text": [
      "[1, 2, 0, 0]\n"
     ]
    }
   ],
   "source": [
    "n=int(input(\"enter the no of values\"))\n",
    "nums=[]\n",
    "for i in range(n):\n",
    "    nums.append(int(input(\"enter the value\")))\n",
    "nums.sort(key=lambda x:x==0)\n",
    "print(nums)"
   ]
  },
  {
   "cell_type": "code",
   "execution_count": null,
   "id": "aa6eba1c-2446-4ecb-ba05-188f68ffba49",
   "metadata": {},
   "outputs": [],
   "source": []
  }
 ],
 "metadata": {
  "kernelspec": {
   "display_name": "Python 3 (ipykernel)",
   "language": "python",
   "name": "python3"
  },
  "language_info": {
   "codemirror_mode": {
    "name": "ipython",
    "version": 3
   },
   "file_extension": ".py",
   "mimetype": "text/x-python",
   "name": "python",
   "nbconvert_exporter": "python",
   "pygments_lexer": "ipython3",
   "version": "3.10.8"
  }
 },
 "nbformat": 4,
 "nbformat_minor": 5
}
